import pandas as pd
import os 

nazwa_pliku = 'hmmer.out'

sciezka = '/home/users/twoje_imie/output/output_bakterie1'

close_df = pd.DataFrame()

for folder in os.listdir(sciezka):
    sciezka_pliku = os.path.join(sciezka, folder, nazwa_pliku)
    if os.path.isfile(sciezka_pliku):
        temp_df = pd.read_csv(sciezka_pliku, sep = '\t')
        close_df = pd.concat([close_df, temp_df], ignore_index=True)

# zmiana nazw kolumn w pliku łączonym hmmer.out
final_df=close_df.rename(columns={"HMM Profile":"HMM_Profile_archaea", "Profile Length":"Profile_Lenght", "Gene ID":"Gene_ID", "Gene Length":"Gene_Length", "E Value":"E_Value", "Profile Start":"Profile_Start", "Profile End":"Profile_End", "Gene Start":"Gene_Start", "Gene End":"Gene_End"})

# zliczenie liczby rodzin białek w danej grupie organizmów
final_df.HMM_Profile_archaea.value_counts()
